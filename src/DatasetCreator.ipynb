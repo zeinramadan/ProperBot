{
 "cells": [
  {
   "cell_type": "markdown",
   "id": "a4ed5caf",
   "metadata": {},
   "source": [
    "# Creating the proper techno dataset\n",
    "\n",
    "This notebook is used to organize the audio files by class. We are going to download the proper techno spotify playlist and use that as the proper techno true labels. For the negative classes we will take some hard techno, trance, melodic techno spotify playlists as the negatives\n"
   ]
  },
  {
   "cell_type": "code",
   "execution_count": 1,
   "id": "c7944b35",
   "metadata": {},
   "outputs": [
    {
     "name": "stdout",
     "output_type": "stream",
     "text": [
      "/Users/zein/proper-classifier\r\n"
     ]
    }
   ],
   "source": [
    "!pwd"
   ]
  },
  {
   "cell_type": "markdown",
   "id": "1df4df41",
   "metadata": {},
   "source": [
    "## EDA"
   ]
  },
  {
   "cell_type": "code",
   "execution_count": null,
   "id": "f1197057",
   "metadata": {},
   "outputs": [],
   "source": [
    "# need to cd into the directory first..\n",
    "# testing librosa library on one audio file, setting the params for reading each audio file\n",
    "\n",
    "file_name = ''\n",
    "audio_data, sampling_rate = librosa.load(file_name, mono=False) \n",
    "librosa.display.waveplot(audio_data,sr=sampling_rate)\n",
    "ipd.Audio(file_name)\n",
    "\n"
   ]
  },
  {
   "cell_type": "markdown",
   "id": "600a7300",
   "metadata": {},
   "source": [
    "## Load into 2 column pandas dataframe: file name (id), label"
   ]
  },
  {
   "cell_type": "code",
   "execution_count": null,
   "id": "68ea4df4",
   "metadata": {},
   "outputs": [],
   "source": []
  },
  {
   "cell_type": "markdown",
   "id": "8d14e181",
   "metadata": {},
   "source": [
    "## Extract the features over each file and create pandas dataframe with: filename (id), features, label"
   ]
  },
  {
   "cell_type": "code",
   "execution_count": null,
   "id": "ddb1c692",
   "metadata": {},
   "outputs": [],
   "source": [
    "def features_extractor(file):\n",
    "    audio, sample_rate = librosa.load(file_name, res_type='kaiser_fast') \n",
    "    mfccs_features = librosa.feature.mfcc(y=audio, sr=sample_rate, n_mfcc=40)\n",
    "    mfccs_scaled_features = np.mean(mfccs_features.T,axis=0)\n",
    "    \n",
    "    return mfccs_scaled_features\n",
    "\n",
    "extracted_features=[]\n",
    "for index_num,row in tqdm(metadata.iterrows()):\n",
    "    file_name = os.path.join(os.path.abspath(audio_dataset_path),'fold'+str(row[\"fold\"])+'/',str(row[\"slice_file_name\"]))\n",
    "    final_class_labels=row[\"class\"]\n",
    "    data=features_extractor(file_name)\n",
    "    extracted_features.append([data,final_class_labels])\n",
    "\n",
    "extracted_features_df=pd.DataFrame(extracted_features,columns=['feature','class'])\n",
    "extracted_features_df.head(10)"
   ]
  },
  {
   "cell_type": "markdown",
   "id": "b5d2af3b",
   "metadata": {},
   "source": [
    "## Create training, validation, and test splits"
   ]
  },
  {
   "cell_type": "code",
   "execution_count": null,
   "id": "cdd1fda9",
   "metadata": {},
   "outputs": [],
   "source": [
    "X = np.array(extracted_features_df['feature'].tolist())\n",
    "y = np.array(extracted_features_df['class'].tolist())"
   ]
  },
  {
   "cell_type": "code",
   "execution_count": null,
   "id": "3a648221",
   "metadata": {},
   "outputs": [],
   "source": [
    "from tensorflow.keras.utils import to_categorical\n",
    "from sklearn.preprocessing import LabelEncoder\n",
    "\n",
    "labelencoder = LabelEncoder()\n",
    "y = to_categorical(labelencoder.fit_transform(y))"
   ]
  },
  {
   "cell_type": "markdown",
   "id": "4da4c06f",
   "metadata": {},
   "source": [
    "## Save data splits into dataframes"
   ]
  },
  {
   "cell_type": "code",
   "execution_count": null,
   "id": "4bab8387",
   "metadata": {},
   "outputs": [],
   "source": [
    "from sklearn.model_selection import train_test_split\n",
    "\n",
    "X_train,X_test,y_train,y_test=train_test_split(X, y, test_size=0.2, random_state=0)"
   ]
  }
 ],
 "metadata": {
  "kernelspec": {
   "display_name": "Python 3 (ipykernel)",
   "language": "python",
   "name": "python3"
  },
  "language_info": {
   "codemirror_mode": {
    "name": "ipython",
    "version": 3
   },
   "file_extension": ".py",
   "mimetype": "text/x-python",
   "name": "python",
   "nbconvert_exporter": "python",
   "pygments_lexer": "ipython3",
   "version": "3.9.15"
  }
 },
 "nbformat": 4,
 "nbformat_minor": 5
}
