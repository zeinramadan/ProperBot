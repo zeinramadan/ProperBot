{
 "cells": [
  {
   "cell_type": "markdown",
   "id": "0e5ebd27",
   "metadata": {},
   "source": [
    "# RandomForrectClassifier"
   ]
  },
  {
   "cell_type": "markdown",
   "id": "ccec89e3",
   "metadata": {},
   "source": [
    "## Split train and test data"
   ]
  },
  {
   "cell_type": "code",
   "execution_count": null,
   "id": "706bc794",
   "metadata": {},
   "outputs": [],
   "source": [
    "import pandas as pd\n",
    "from sklearn.model_selection import train_test_split\n",
    "from sklearn.preprocessing import LabelEncoder\n",
    "from sklearn.ensemble import RandomForestClassifier\n",
    "from sklearn.metrics import accuracy_score\n",
    "\n",
    "# Load the data from the CSV file\n",
    "data = pd.read_csv('audio_features.csv')\n",
    "\n",
    "# Split the data into training and test sets\n",
    "train_data, test_data, train_labels, test_labels = train_test_split(data.drop(columns=['track', 'label']), \n",
    "                                                                    data['label'], test_size=0.2, random_state=42)\n",
    " "
   ]
  },
  {
   "cell_type": "markdown",
   "id": "ae1430a5",
   "metadata": {},
   "source": [
    "## Encode labels"
   ]
  },
  {
   "cell_type": "code",
   "execution_count": null,
   "id": "8645c434",
   "metadata": {},
   "outputs": [],
   "source": [
    "# Encode the labels as integers\n",
    "le = LabelEncoder()\n",
    "train_labels_encoded = le.fit_transform(train_labels)\n",
    "test_labels_encoded = le.transform(test_labels)"
   ]
  },
  {
   "cell_type": "markdown",
   "id": "88d59405",
   "metadata": {},
   "source": [
    "## Train Model"
   ]
  },
  {
   "cell_type": "code",
   "execution_count": null,
   "id": "acc13e9b",
   "metadata": {},
   "outputs": [],
   "source": [
    "# Train a Random Forest classifier\n",
    "rfc = RandomForestClassifier(n_estimators=100, random_state=42)\n",
    "rfc.fit(train_data, train_labels_encoded)"
   ]
  },
  {
   "cell_type": "markdown",
   "id": "ca7711e4",
   "metadata": {},
   "source": [
    "## Evaluate on test set"
   ]
  },
  {
   "cell_type": "code",
   "execution_count": null,
   "id": "f7b8f590",
   "metadata": {},
   "outputs": [],
   "source": [
    "# Make predictions on the test set\n",
    "pred_labels_encoded = rfc.predict(test_data)\n",
    "\n",
    "# Decode the predicted labels\n",
    "pred_labels = le.inverse_transform(pred_labels_encoded)\n",
    "\n",
    "# Compute the accuracy of the model\n",
    "accuracy = accuracy_score(test_labels, pred_labels)\n",
    "print(f\"Accuracy: {accuracy}\")"
   ]
  }
 ],
 "metadata": {
  "kernelspec": {
   "display_name": "Python 3 (ipykernel)",
   "language": "python",
   "name": "python3"
  },
  "language_info": {
   "codemirror_mode": {
    "name": "ipython",
    "version": 3
   },
   "file_extension": ".py",
   "mimetype": "text/x-python",
   "name": "python",
   "nbconvert_exporter": "python",
   "pygments_lexer": "ipython3",
   "version": "3.9.15"
  }
 },
 "nbformat": 4,
 "nbformat_minor": 5
}
