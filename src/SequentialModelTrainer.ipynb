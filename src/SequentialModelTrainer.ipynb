{
 "cells": [
  {
   "cell_type": "markdown",
   "id": "f5e0ff74",
   "metadata": {},
   "source": [
    "# Model building and training\n",
    "\n",
    "This notebook is for building and training the sequential keras model on the pre-processed dataset.\n",
    "\n",
    "The model is a sequential model with two convolutional layers, followed by two dense layers. The hyperparameters are the number of filters, kernel size, and dropout rate. The output layer has two units, one for each class."
   ]
  },
  {
   "cell_type": "code",
   "execution_count": 1,
   "id": "e91e1118",
   "metadata": {},
   "outputs": [],
   "source": [
    "import pandas as pd\n",
    "import os\n",
    "import librosa\n",
    "import librosa.display\n",
    "import numpy as np\n",
    "import IPython.display as ipd\n",
    "import matplotlib.pyplot as plt\n",
    "%matplotlib inline\n",
    "import tensorflow as tf\n",
    "from sklearn.model_selection import train_test_split\n",
    "from tensorflow.keras.models import Sequential\n",
    "from tensorflow.keras.layers import Dense, Dropout, Flatten, Conv2D, MaxPooling2D, BatchNormalization"
   ]
  },
  {
   "cell_type": "markdown",
   "id": "841bad75",
   "metadata": {},
   "source": [
    "## Loading preprocessed dataset"
   ]
  },
  {
   "cell_type": "code",
   "execution_count": null,
   "id": "4744235c",
   "metadata": {},
   "outputs": [],
   "source": [
    "# Load data from pandas dataframe\n",
    "data = pd.read_csv('audio_features.csv')\n",
    "\n",
    "# Split data into features and labels\n",
    "X = data.iloc[:, 2:]\n",
    "y = data.iloc[:, 1]\n",
    "\n",
    "# Convert labels to categorical values\n",
    "y = pd.get_dummies(y)\n",
    "\n",
    "# Split data into training and testing sets\n",
    "X_train, X_test, y_train, y_test = train_test_split(X, y, test_size=0.2, random_state=42)\n",
    "\n",
    "# Reshape the features into 2D arrays\n",
    "X_train = np.array(X_train).reshape(X_train.shape[0], 40, 1)\n",
    "X_test = np.array(X_test).reshape(X_test.shape[0], 40, 1)"
   ]
  },
  {
   "cell_type": "markdown",
   "id": "3f99102c",
   "metadata": {},
   "source": [
    "## Build Sequential Model"
   ]
  },
  {
   "cell_type": "code",
   "execution_count": null,
   "id": "5778f27b",
   "metadata": {},
   "outputs": [],
   "source": [
    "# Define the hyperparameters\n",
    "batch_size = 32\n",
    "epochs = 20\n",
    "num_filters = 64\n",
    "kernel_size = (3,3)\n",
    "pool_size = (2,2)\n",
    "dropout_rate = 0.5\n",
    "dense_units = 64\n",
    "\n",
    "# Build the model\n",
    "model = Sequential()\n",
    "model.add(Conv2D(num_filters, kernel_size, activation='relu', input_shape=(40, 1, 1)))\n",
    "model.add(BatchNormalization())\n",
    "model.add(MaxPooling2D(pool_size=pool_size))\n",
    "model.add(Dropout(dropout_rate))\n",
    "\n",
    "model.add(Conv2D(num_filters, kernel_size, activation='relu'))\n",
    "model.add(BatchNormalization())\n",
    "model.add(MaxPooling2D(pool_size=pool_size))\n",
    "model.add(Dropout(dropout_rate))\n",
    "\n",
    "model.add(Flatten())\n",
    "\n",
    "model.add(Dense(dense_units, activation='relu'))\n",
    "model.add(Dropout(dropout_rate))\n",
    "model.add(Dense(2, activation='softmax'))\n",
    "\n",
    "# Compile the model\n",
    "model.compile(loss='categorical_crossentropy', optimizer='adam', metrics=['accuracy'])"
   ]
  },
  {
   "cell_type": "markdown",
   "id": "dd2b7fe1",
   "metadata": {},
   "source": [
    "## Train model"
   ]
  },
  {
   "cell_type": "code",
   "execution_count": null,
   "id": "3dc83f44",
   "metadata": {},
   "outputs": [],
   "source": [
    "# Train the model\n",
    "model.fit(X_train, y_train, batch_size=batch_size, epochs=epochs, validation_data=(X_test, y_test))"
   ]
  },
  {
   "cell_type": "markdown",
   "id": "a4a8761d",
   "metadata": {},
   "source": [
    "## Save trained model and predictions on test set"
   ]
  },
  {
   "cell_type": "code",
   "execution_count": null,
   "id": "3482282d",
   "metadata": {},
   "outputs": [],
   "source": [
    "# Save the model\n",
    "model.save('audio_model.h5')\n",
    "\n",
    "# Evaluate the model on the test set\n",
    "loss, accuracy = model.evaluate(X_test, y_test)\n",
    "\n",
    "print(\"Test set loss: {:.2f}\".format(loss))\n",
    "print(\"Test set accuracy: {:.2f}%\".format(accuracy * 100))"
   ]
  }
 ],
 "metadata": {
  "kernelspec": {
   "display_name": "Python 3 (ipykernel)",
   "language": "python",
   "name": "python3"
  },
  "language_info": {
   "codemirror_mode": {
    "name": "ipython",
    "version": 3
   },
   "file_extension": ".py",
   "mimetype": "text/x-python",
   "name": "python",
   "nbconvert_exporter": "python",
   "pygments_lexer": "ipython3",
   "version": "3.9.15"
  }
 },
 "nbformat": 4,
 "nbformat_minor": 5
}
