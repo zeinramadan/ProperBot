{
 "cells": [
  {
   "cell_type": "markdown",
   "id": "f5e0ff74",
   "metadata": {},
   "source": [
    "# Model building and training\n",
    "\n",
    "This notebook is for building and training the sequential keras model on the pre-processed dataset."
   ]
  },
  {
   "cell_type": "code",
   "execution_count": 1,
   "id": "e91e1118",
   "metadata": {},
   "outputs": [],
   "source": [
    "import pandas as pd\n",
    "import os\n",
    "import librosa\n",
    "import librosa.display\n",
    "import numpy as np\n",
    "import IPython.display as ipd\n",
    "import matplotlib.pyplot as plt\n",
    "%matplotlib inline"
   ]
  },
  {
   "cell_type": "markdown",
   "id": "841bad75",
   "metadata": {},
   "source": [
    "## Loading preprocessed dataset"
   ]
  },
  {
   "cell_type": "code",
   "execution_count": null,
   "id": "4744235c",
   "metadata": {},
   "outputs": [],
   "source": []
  },
  {
   "cell_type": "markdown",
   "id": "3f99102c",
   "metadata": {},
   "source": [
    "## Build Sequential Model"
   ]
  },
  {
   "cell_type": "code",
   "execution_count": null,
   "id": "5778f27b",
   "metadata": {},
   "outputs": [],
   "source": []
  },
  {
   "cell_type": "markdown",
   "id": "dd2b7fe1",
   "metadata": {},
   "source": [
    "## Train model"
   ]
  },
  {
   "cell_type": "code",
   "execution_count": null,
   "id": "3dc83f44",
   "metadata": {},
   "outputs": [],
   "source": []
  },
  {
   "cell_type": "markdown",
   "id": "a4a8761d",
   "metadata": {},
   "source": [
    "## Save trained model and predictions on test set"
   ]
  },
  {
   "cell_type": "code",
   "execution_count": null,
   "id": "3482282d",
   "metadata": {},
   "outputs": [],
   "source": []
  }
 ],
 "metadata": {
  "kernelspec": {
   "display_name": "Python 3 (ipykernel)",
   "language": "python",
   "name": "python3"
  },
  "language_info": {
   "codemirror_mode": {
    "name": "ipython",
    "version": 3
   },
   "file_extension": ".py",
   "mimetype": "text/x-python",
   "name": "python",
   "nbconvert_exporter": "python",
   "pygments_lexer": "ipython3",
   "version": "3.9.15"
  }
 },
 "nbformat": 4,
 "nbformat_minor": 5
}
