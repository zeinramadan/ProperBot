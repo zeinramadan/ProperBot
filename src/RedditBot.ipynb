{
 "cells": [
  {
   "cell_type": "markdown",
   "id": "c06afc42",
   "metadata": {},
   "source": [
    "# Wrapping the model as a reddit bot\n",
    "\n",
    "After training and saving the trained model, we want to wrap it as a reddit bot that produces a score for every post made on the subreddit r/ProperTechno as a post reply. We will use the Reddit API"
   ]
  },
  {
   "cell_type": "code",
   "execution_count": null,
   "id": "2dd78278",
   "metadata": {},
   "outputs": [],
   "source": []
  }
 ],
 "metadata": {
  "kernelspec": {
   "display_name": "Python 3 (ipykernel)",
   "language": "python",
   "name": "python3"
  },
  "language_info": {
   "codemirror_mode": {
    "name": "ipython",
    "version": 3
   },
   "file_extension": ".py",
   "mimetype": "text/x-python",
   "name": "python",
   "nbconvert_exporter": "python",
   "pygments_lexer": "ipython3",
   "version": "3.9.15"
  }
 },
 "nbformat": 4,
 "nbformat_minor": 5
}
