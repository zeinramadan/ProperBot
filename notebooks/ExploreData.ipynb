{
 "cells": [
  {
   "cell_type": "markdown",
   "metadata": {},
   "source": [
    "# Explore Data\n",
    "\n",
    "Main issue is we want to check if a track exists in both classes. I.e. if a track is in the proper class, it should not be in the non-proper class and vice versa.\n",
    "\n",
    "This is difficult because the filenames are not unique and there are many different versions of the same track. So we need to check how close similar the filenames are to each other. We may have cases where the youtube video name is slightly different but the audio is the same, but potentially different quality. \n",
    "\n",
    "\n",
    "To solve this we will use a library called PyDejavu. It is a python implementation of the Dejavu audio fingerprinting library. \n",
    "\n",
    "In this notebook we will use pydejavu to make sure we dont have any tracks that are in both classes.\n",
    "\n",
    "NB: PyDejaVu is also used in the backend to fingerprint the audio when we store track information in the database, we use the library to avoid re-scoring tracks that already exist in the database, so when a user submits a track we check if it exists in the database using the fingerprint, if not we fingerpring, score and store the track in the database, return the score to the user."
   ]
  },
  {
   "cell_type": "code",
   "execution_count": null,
   "metadata": {},
   "outputs": [],
   "source": []
  }
 ],
 "metadata": {
  "language_info": {
   "name": "python"
  }
 },
 "nbformat": 4,
 "nbformat_minor": 2
}
