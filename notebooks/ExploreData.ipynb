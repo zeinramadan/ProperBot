{
 "cells": [
  {
   "cell_type": "markdown",
   "metadata": {},
   "source": [
    "# Explore Data\n",
    "\n",
    "Main issue is we want to check if a track exists in both classes. I.e. if a track is in the proper class, it should not be in the non-proper class and vice versa.\n",
    "\n",
    "This is difficult because the filenames are not unique and there are many different versions of the same track. So we need to check how close similar the filenames are to each other. We may have cases where the youtube video name is slightly different but the audio is the same, but potentially different quality. \n",
    "\n",
    "\n",
    "To solve this we will use a library called PyDejavu. It is a python implementation of the Dejavu audio fingerprinting library. "
   ]
  },
  {
   "cell_type": "code",
   "execution_count": null,
   "metadata": {},
   "outputs": [],
   "source": []
  }
 ],
 "metadata": {
  "language_info": {
   "name": "python"
  }
 },
 "nbformat": 4,
 "nbformat_minor": 2
}
