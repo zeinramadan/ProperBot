{
 "cells": [
  {
   "cell_type": "markdown",
   "metadata": {},
   "source": [
    "# Creating the dataset for the CNN"
   ]
  },
  {
   "cell_type": "code",
   "execution_count": null,
   "metadata": {},
   "outputs": [],
   "source": [
    "import librosa\n",
    "import librosa.display\n",
    "import matplotlib.pyplot as plt\n",
    "import numpy as np\n",
    "import os\n",
    "\n",
    "def create_spectrogram(audio_path, output_path, sr=22050, n_mels=128, hop_length=512):\n",
    "    # Load the audio file\n",
    "    y, sr = librosa.load(audio_path, sr=sr)\n",
    "    \n",
    "    # Generate the mel spectrogram\n",
    "    S = librosa.feature.melspectrogram(y, sr=sr, n_mels=n_mels, hop_length=hop_length)\n",
    "    \n",
    "    # Convert to log scale (dB)\n",
    "    S_dB = librosa.power_to_db(S, ref=np.max)\n",
    "    \n",
    "    # Plot and save the spectrogram\n",
    "    plt.figure(figsize=(3, 3))\n",
    "    librosa.display.specshow(S_dB, sr=sr, hop_length=hop_length, x_axis='time', y_axis='mel')\n",
    "    plt.axis('off')  # Turn off the axis\n",
    "    plt.tight_layout()\n",
    "    plt.savefig(output_path, bbox_inches='tight', pad_inches=0)\n",
    "    plt.close()\n",
    "\n",
    "# Directory paths\n",
    "audio_dir = 'path/to/audio/files'\n",
    "output_dir = 'data/spectrograms'\n",
    "\n",
    "# Ensure the output directory exists\n",
    "os.makedirs(output_dir, exist_ok=True)\n",
    "\n",
    "# Process each audio file\n",
    "for audio_file in os.listdir(audio_dir):\n",
    "    if audio_file.endswith('.wav'):  # Assuming audio files are in .wav format\n",
    "        audio_path = os.path.join(audio_dir, audio_file)\n",
    "        output_path = os.path.join(output_dir, f\"{os.path.splitext(audio_file)[0]}.png\")\n",
    "        create_spectrogram(audio_path, output_path)"
   ]
  }
 ],
 "metadata": {
  "kernelspec": {
   "display_name": "proper-classifier",
   "language": "python",
   "name": "python3"
  },
  "language_info": {
   "name": "python",
   "version": "3.9.15"
  }
 },
 "nbformat": 4,
 "nbformat_minor": 2
}
