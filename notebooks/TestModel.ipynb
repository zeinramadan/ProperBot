{
 "cells": [
  {
   "cell_type": "markdown",
   "metadata": {},
   "source": [
    "# Model testing notebook\n",
    "\n",
    "In this notebook we will test the model to see how it performs on new data.\n",
    "\n",
    "We will download proper and non-proper tracks from YouTube and score them using the model.\n",
    "\n",
    "We will then compare the scores to the actual labels and calculate the accuracy of the model."
   ]
  },
  {
   "cell_type": "code",
   "execution_count": null,
   "metadata": {},
   "outputs": [],
   "source": [
    "# Import necessary libraries\n",
    "import os\n",
    "import pickle  # Assuming the model is saved using joblib\n",
    "import librosa  # Assuming you are using librosa to process audio tracks\n",
    "import numpy as np\n",
    "\n",
    "# Load the trained model\n",
    "model_path = 'src/backend/resources/your_model_file.pkl'  # Replace with your actual model file name\n",
    "model = pickle.load(open(model_path, 'rb'))\n",
    "\n",
    "\n",
    "def extract_features(file_path):\n",
    "    y, sr = librosa.load(file_path)\n",
    "\n",
    "    # Extract features\n",
    "    mfccs = np.mean(librosa.feature.mfcc(y=y, sr=sr, n_mfcc=13).T, axis=0)\n",
    "    chroma = np.mean(librosa.feature.chroma_stft(y=y, sr=sr).T, axis=0)\n",
    "    spectral_contrast = np.mean(librosa.feature.spectral_contrast(y=y, sr=sr).T, axis=0)\n",
    "    zero_crossings = np.mean(librosa.feature.zero_crossing_rate(y))\n",
    "    spectral_bandwidth = np.mean(librosa.feature.spectral_bandwidth(y=y, sr=sr))\n",
    "    rms_energy = np.mean(librosa.feature.rms(y=y))\n",
    "\n",
    "    # Combine all features into a single array\n",
    "    features = np.hstack([mfccs, chroma, spectral_contrast, zero_crossings, spectral_bandwidth, rms_energy])\n",
    "    return features\n",
    "\n",
    "# Get predictions for tracks\n",
    "tracks_dir = 'src/backend/tracks/'\n",
    "for track_file in os.listdir(tracks_dir):\n",
    "    track_path = os.path.join(tracks_dir, track_file)\n",
    "    features = extract_features(track_path)\n",
    "    prediction = model.predict([features])\n",
    "    print(f\"Track: {track_file}, Prediction: {prediction}\")"
   ]
  }
 ],
 "metadata": {
  "kernelspec": {
   "display_name": "proper-classifier",
   "language": "python",
   "name": "python3"
  },
  "language_info": {
   "name": "python",
   "version": "3.9.15"
  }
 },
 "nbformat": 4,
 "nbformat_minor": 2
}
